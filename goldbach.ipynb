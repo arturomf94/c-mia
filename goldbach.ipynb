{
  "nbformat": 4,
  "nbformat_minor": 0,
  "metadata": {
    "colab": {
      "name": "goldbach.ipynb",
      "version": "0.3.2",
      "provenance": [],
      "collapsed_sections": [],
      "include_colab_link": true
    },
    "kernelspec": {
      "name": "python3",
      "display_name": "Python 3"
    }
  },
  "cells": [
    {
      "cell_type": "markdown",
      "metadata": {
        "id": "view-in-github",
        "colab_type": "text"
      },
      "source": [
        "<a href=\"https://colab.research.google.com/github/arturomf94/c-mia/blob/master/goldbach.ipynb\" target=\"_parent\"><img src=\"https://colab.research.google.com/assets/colab-badge.svg\" alt=\"Open In Colab\"/></a>"
      ]
    },
    {
      "metadata": {
        "id": "d0bPuXgGw4Rl",
        "colab_type": "code",
        "colab": {}
      },
      "cell_type": "code",
      "source": [
        "from math import sqrt\n",
        "\n",
        "primes = [2, 3]\n",
        "GoldbachNumbers = {4: [(2, 2)]}\n",
        "\n",
        "# Return true if N is prime. Assumes all primes up to sqrt(N) are known.\n",
        "def isPrime(n):\n",
        "        lastFactor = sqrt(n)\n",
        "        for i in primes:\n",
        "                if i > lastFactor:\n",
        "                        return True\n",
        "                if n % i == 0:\n",
        "                        return False\n",
        "\n",
        "# Find primes up to N and append them to primes\n",
        "def findPrimes(n):\n",
        "        for i in range(primes[-1] + 2, n, 2):\n",
        "                if isPrime(i):\n",
        "                        primes.append(i)\n",
        "\n",
        "# Append {N: [prime pairs that sum to N]} to GoldbachNumbers\n",
        "def Goldbach(n):\n",
        "        if n not in GoldbachNumbers:\n",
        "                if n > primes[-1]:\n",
        "                        findPrimes(n)\n",
        "                GoldbachNumbers[n] = []\n",
        "                for i in primes:\n",
        "                        if i > n/2:\n",
        "                                break\n",
        "                        if n - i in primes:\n",
        "                                GoldbachNumbers[n].extend([(i, n - i)])\n",
        "\n",
        "# Find the prime possibilities for all numbers up to N\n",
        "def findGoldbachs(n):\n",
        "        for i in range(max(GoldbachNumbers) + 2, n + 1, 2):\n",
        "                Goldbach(i)\n"
      ],
      "execution_count": 0,
      "outputs": []
    },
    {
      "metadata": {
        "id": "cp6yl3x1z9JO",
        "colab_type": "code",
        "colab": {}
      },
      "cell_type": "code",
      "source": [
        "findGoldbachs(10000)"
      ],
      "execution_count": 0,
      "outputs": []
    },
    {
      "metadata": {
        "id": "vuz2caeO3vUJ",
        "colab_type": "code",
        "colab": {
          "base_uri": "https://localhost:8080/",
          "height": 156
        },
        "outputId": "c00291a4-77ef-40b8-cb6f-3361ec19d1d3"
      },
      "cell_type": "code",
      "source": [
        "GoldbachNumbers[200]"
      ],
      "execution_count": 25,
      "outputs": [
        {
          "output_type": "execute_result",
          "data": {
            "text/plain": [
              "[(3, 197),\n",
              " (7, 193),\n",
              " (19, 181),\n",
              " (37, 163),\n",
              " (43, 157),\n",
              " (61, 139),\n",
              " (73, 127),\n",
              " (97, 103)]"
            ]
          },
          "metadata": {
            "tags": []
          },
          "execution_count": 25
        }
      ]
    }
  ]
}